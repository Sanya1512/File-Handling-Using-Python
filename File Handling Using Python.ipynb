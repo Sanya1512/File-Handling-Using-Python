{
 "cells": [
  {
   "cell_type": "markdown",
   "id": "2adff7c6",
   "metadata": {},
   "source": [
    "# <span style=\"color:purple;font-weight: bolder\">Reading Data from Text-file </span>\n",
    "Both the files i.e where i am writting the code and which file i need to open should be in same working directory"
   ]
  },
  {
   "cell_type": "code",
   "execution_count": null,
   "id": "5f01743e",
   "metadata": {},
   "outputs": [],
   "source": [
    "fd = open('MyFile.txt','r', encoding = 'utf-8') # fd is file dscriptor i.e reference to the file\n",
    "\n",
    "txt = fd.read()\n",
    "print(txt)\n",
    "\n",
    "fd.close()"
   ]
  },
  {
   "cell_type": "markdown",
   "id": "fa99cf3e",
   "metadata": {},
   "source": [
    "## <span style=\"color:green\"> \"MyFile.txt\"  file I have made using web scraping </span> \n",
    "<span style=\"color:blue\">If I make the changes in MyFile.txt and save it after executing the above code again, the output will be reflected in our code as per my new data in the file.   </span>"
   ]
  },
  {
   "cell_type": "markdown",
   "id": "e23da489",
   "metadata": {},
   "source": [
    "#  <span style =\"color:purple;font-weight: bolder\"> Reading Data from Text-file Corpus </span>\n"
   ]
  },
  {
   "cell_type": "code",
   "execution_count": null,
   "id": "eaed3771",
   "metadata": {},
   "outputs": [],
   "source": [
    "txt # printing in raw format here \\n\\n means two times enter pressed\n",
    "    # (\\n is a special character for next line)"
   ]
  },
  {
   "cell_type": "code",
   "execution_count": null,
   "id": "10922d34",
   "metadata": {},
   "outputs": [],
   "source": [
    "print(txt) "
   ]
  },
  {
   "cell_type": "code",
   "execution_count": null,
   "id": "cfbe8c78",
   "metadata": {},
   "outputs": [],
   "source": [
    "# replacing above \\n \n",
    "text = txt.replace(\"\\n\\n\", ' ')"
   ]
  },
  {
   "cell_type": "code",
   "execution_count": null,
   "id": "d39e722c",
   "metadata": {},
   "outputs": [],
   "source": [
    "print(text) # hence \\n removed successfully"
   ]
  },
  {
   "cell_type": "markdown",
   "id": "a78b1c09",
   "metadata": {},
   "source": [
    "# <span style = \"color: purple;font-weight: bolder\"> Text Preprocessing </span>"
   ]
  },
  {
   "cell_type": "code",
   "execution_count": null,
   "id": "91ddad8f",
   "metadata": {},
   "outputs": [],
   "source": [
    "fd = open('MyFile.txt','r', encoding = 'utf-8') # fd is file dscriptor i.e reference to the file\n",
    "\n",
    "txt = fd.read()\n",
    "print(txt)\n",
    "\n",
    "fd.close()"
   ]
  },
  {
   "cell_type": "code",
   "execution_count": null,
   "id": "f9058f45",
   "metadata": {},
   "outputs": [],
   "source": [
    "type(txt) # So we can perform slicing"
   ]
  },
  {
   "cell_type": "markdown",
   "id": "844401de",
   "metadata": {},
   "source": [
    "# For paragraphs :\n",
    "### The Logic is : wherever the user have pressed enter (\\n\\n), I will split that particular part"
   ]
  },
  {
   "cell_type": "code",
   "execution_count": null,
   "id": "cd8ee7c0",
   "metadata": {},
   "outputs": [],
   "source": [
    "para = txt.split(\"\\n\\n\") # Will get output as list"
   ]
  },
  {
   "cell_type": "code",
   "execution_count": null,
   "id": "f6de0785",
   "metadata": {},
   "outputs": [],
   "source": [
    "para"
   ]
  },
  {
   "cell_type": "code",
   "execution_count": null,
   "id": "ff1106b7",
   "metadata": {},
   "outputs": [],
   "source": [
    "type(para)"
   ]
  },
  {
   "cell_type": "code",
   "execution_count": null,
   "id": "30c1eb45",
   "metadata": {},
   "outputs": [],
   "source": [
    "len(para)"
   ]
  },
  {
   "cell_type": "code",
   "execution_count": null,
   "id": "40fd8c42",
   "metadata": {},
   "outputs": [],
   "source": [
    "for p in para:\n",
    "    print(p)"
   ]
  },
  {
   "cell_type": "markdown",
   "id": "f0d21724",
   "metadata": {},
   "source": [
    "# For Lines :\n",
    "Logic : Every line is completed when full stop occurs."
   ]
  },
  {
   "cell_type": "code",
   "execution_count": null,
   "id": "11d7a741",
   "metadata": {},
   "outputs": [],
   "source": [
    "lines = txt.split(\".\")"
   ]
  },
  {
   "cell_type": "code",
   "execution_count": null,
   "id": "c3606ff9",
   "metadata": {},
   "outputs": [],
   "source": [
    "lines"
   ]
  },
  {
   "cell_type": "code",
   "execution_count": null,
   "id": "ce3b0676",
   "metadata": {},
   "outputs": [],
   "source": [
    "len(txt.split(\".\"))"
   ]
  },
  {
   "cell_type": "code",
   "execution_count": null,
   "id": "15aae987",
   "metadata": {},
   "outputs": [],
   "source": [
    "len(lines[:-1])"
   ]
  },
  {
   "cell_type": "markdown",
   "id": "5e0da670",
   "metadata": {},
   "source": [
    "## For Words :"
   ]
  },
  {
   "cell_type": "code",
   "execution_count": null,
   "id": "d7918ea8",
   "metadata": {},
   "outputs": [],
   "source": [
    "words  = txt.split(' ')"
   ]
  },
  {
   "cell_type": "code",
   "execution_count": null,
   "id": "a1140ce7",
   "metadata": {},
   "outputs": [],
   "source": [
    "words"
   ]
  },
  {
   "cell_type": "code",
   "execution_count": null,
   "id": "053af9f8",
   "metadata": {},
   "outputs": [],
   "source": [
    "len(words)"
   ]
  },
  {
   "cell_type": "markdown",
   "id": "30fc172d",
   "metadata": {},
   "source": [
    "# <span style = \"color: purple;font-weight: bolder\"> Advanced Text Processing </span>\n",
    "##  <span style = \"color: blue\">Removing unwanted patterns </span>\n",
    "\n",
    "## <span style = \"color: green\"> A) Removing : [1], [2], [3] ,.....[414] </span>"
   ]
  },
  {
   "cell_type": "code",
   "execution_count": null,
   "id": "7649518c",
   "metadata": {},
   "outputs": [],
   "source": [
    "import re\n",
    "# Define the pattern to match any number within the range [1,415]\n",
    "pattern = r'\\[(?:[1-9]|[1-9][0-9]|[1-3][0-9][0-9]|4[0-1][0-5])\\]'\n",
    "\n",
    "# Replace all occurrences of the pattern with a space\n",
    "txt = re.sub(pattern, ' ', txt)\n",
    "\n",
    "print(txt)"
   ]
  },
  {
   "cell_type": "markdown",
   "id": "1be62d75",
   "metadata": {},
   "source": [
    "## <span style = \"color: green\"> Removing : B) [ note 1] , [note 2] ,.......[note n] </span>"
   ]
  },
  {
   "cell_type": "code",
   "execution_count": null,
   "id": "f5dd84a1",
   "metadata": {},
   "outputs": [],
   "source": [
    "import re\n",
    "# Define the pattern to match notes of the form \"[note <number>]\"\n",
    "pattern = r'\\[note\\s(\\d+)\\]'\n",
    "\n",
    "# Find all matches of the pattern in the text\n",
    "matches = re.findall(pattern, txt)\n",
    "\n",
    "# Count the number of matches\n",
    "num_notes = len(matches)\n",
    "\n",
    "print(\"Number of notes found:\", num_notes)"
   ]
  },
  {
   "cell_type": "code",
   "execution_count": null,
   "id": "b0e56355",
   "metadata": {},
   "outputs": [],
   "source": [
    "import re\n",
    "# Defining the pattern \n",
    "pattern = r'\\[note\\s\\d+\\]'\n",
    "\n",
    "# Remove all occurrences of notes from the text\n",
    "txt = re.sub(pattern, '', txt)\n",
    "\n",
    "print(txt)"
   ]
  },
  {
   "cell_type": "markdown",
   "id": "d9fb3b50",
   "metadata": {},
   "source": [
    "# <span style = \"color: green\">Finding number of web : </span>"
   ]
  },
  {
   "cell_type": "code",
   "execution_count": null,
   "id": "e92d8149",
   "metadata": {},
   "outputs": [],
   "source": [
    "import re\n",
    "\n",
    "# Define the pattern to match web patterns of the form \"[web <number>]\"\n",
    "pattern = r'\\[web\\s(\\d+)\\]'\n",
    "\n",
    "# Find all matches of the pattern in the text\n",
    "matches = re.findall(pattern, txt)\n",
    "\n",
    "# Calculate the number of web patterns found\n",
    "num_web_patterns = len(matches)\n",
    "\n",
    "print(\"Number of web patterns found:\", num_web_patterns)"
   ]
  },
  {
   "cell_type": "markdown",
   "id": "2a055dac",
   "metadata": {},
   "source": [
    "## <span style = \"color: green\">Removing [web 1] , ..... , [web 11]</span>"
   ]
  },
  {
   "cell_type": "code",
   "execution_count": null,
   "id": "a52cc88f",
   "metadata": {},
   "outputs": [],
   "source": [
    "import re\n",
    "\n",
    "# Define the pattern to match web patterns of the form \"[web <number>]\"\n",
    "pattern = r'\\[web\\s\\d+\\]'\n",
    "\n",
    "# Remove 11 occurrences of the web pattern from the text\n",
    "cleaned_txt = re.sub(pattern, '', txt, count=11)\n",
    "\n",
    "print(cleaned_txt)"
   ]
  },
  {
   "cell_type": "markdown",
   "id": "86839fa2",
   "metadata": {},
   "source": [
    "# <span style = \"color: green\"> Number of paragraphs in cleaned txt : </span>"
   ]
  },
  {
   "cell_type": "code",
   "execution_count": null,
   "id": "cf001f7f",
   "metadata": {},
   "outputs": [],
   "source": [
    "para = cleaned_txt.split(\"\\n\\n\")"
   ]
  },
  {
   "cell_type": "code",
   "execution_count": null,
   "id": "0b88114c",
   "metadata": {},
   "outputs": [],
   "source": [
    "len(para)"
   ]
  },
  {
   "cell_type": "markdown",
   "id": "924fba21",
   "metadata": {},
   "source": [
    "# <span style = \"color: green\"> Number of lines in cleaned txt </span>"
   ]
  },
  {
   "cell_type": "code",
   "execution_count": null,
   "id": "b31cc778",
   "metadata": {},
   "outputs": [],
   "source": [
    "lines = cleaned_txt.split(\".\")\n",
    "len(lines)"
   ]
  },
  {
   "cell_type": "markdown",
   "id": "2a2a59c3",
   "metadata": {},
   "source": [
    "# <span style = \"color: green\">Number of words in cleaned txt </span>"
   ]
  },
  {
   "cell_type": "code",
   "execution_count": null,
   "id": "5429a7da",
   "metadata": {},
   "outputs": [],
   "source": [
    "words  = cleaned_txt.split(' ')\n",
    "len(words)"
   ]
  },
  {
   "cell_type": "markdown",
   "id": "40f68fa5",
   "metadata": {},
   "source": [
    "# Writting Data on a text-file"
   ]
  },
  {
   "cell_type": "code",
   "execution_count": null,
   "id": "5c894fa0",
   "metadata": {},
   "outputs": [],
   "source": [
    "# Using write mode\n",
    "fd = open(\"Data.txt\", 'w')\n",
    "\n",
    "fd.write(\"Hello, My Name is Sanya.\")\n",
    "\n",
    "fd.close()\n"
   ]
  },
  {
   "cell_type": "code",
   "execution_count": null,
   "id": "efca6776",
   "metadata": {},
   "outputs": [],
   "source": [
    "# Using append mode\n",
    "fd = open(\"Data1.txt\", 'a')\n",
    "\n",
    "fd.write(\"This is file handling notebook!\")\n",
    "\n",
    "fd.close()"
   ]
  },
  {
   "cell_type": "markdown",
   "id": "1b576542",
   "metadata": {},
   "source": [
    "# Writing Data on a text-file with New Line"
   ]
  },
  {
   "cell_type": "code",
   "execution_count": null,
   "id": "454ce354",
   "metadata": {},
   "outputs": [],
   "source": [
    "fd = open(\"Data.txt\", 'a')\n",
    "\n",
    "txt = input(\"Enter the text:\")\n",
    "txt = txt + \".\\n\"\n",
    "\n",
    "fd.write(txt)\n",
    "\n",
    "fd.close()"
   ]
  },
  {
   "cell_type": "code",
   "execution_count": null,
   "id": "9a5fed0a",
   "metadata": {},
   "outputs": [],
   "source": []
  }
 ],
 "metadata": {
  "kernelspec": {
   "display_name": "Python 3 (ipykernel)",
   "language": "python",
   "name": "python3"
  },
  "language_info": {
   "codemirror_mode": {
    "name": "ipython",
    "version": 3
   },
   "file_extension": ".py",
   "mimetype": "text/x-python",
   "name": "python",
   "nbconvert_exporter": "python",
   "pygments_lexer": "ipython3",
   "version": "3.11.5"
  }
 },
 "nbformat": 4,
 "nbformat_minor": 5
}
